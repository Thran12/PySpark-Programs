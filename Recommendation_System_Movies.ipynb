{
 "cells": [
  {
   "cell_type": "code",
   "execution_count": 28,
   "id": "a52eb29d",
   "metadata": {},
   "outputs": [],
   "source": [
    "import sys\n",
    "import findspark\n",
    "findspark.init()\n",
    "from pyspark import SparkContext,SparkConf"
   ]
  },
  {
   "cell_type": "code",
   "execution_count": 2,
   "id": "9ca44110",
   "metadata": {},
   "outputs": [],
   "source": [
    "configuration=SparkConf().setMaster(\"local[*]\").setAppName(\"Recommendation System\")"
   ]
  },
  {
   "cell_type": "code",
   "execution_count": 3,
   "id": "bd2d8ec0",
   "metadata": {},
   "outputs": [],
   "source": [
    "sc=SparkContext(conf=configuration)"
   ]
  },
  {
   "cell_type": "code",
   "execution_count": 15,
   "id": "b92ac3b1",
   "metadata": {},
   "outputs": [],
   "source": [
    "source_file=sc.textFile(\"C://Users//kk//OneDrive//Desktop//ml-100k//u.data\")"
   ]
  },
  {
   "cell_type": "raw",
   "id": "cbab9724",
   "metadata": {},
   "source": [
    "Filteration and user_id removal from dataset along with creating a dictionary movie names to lookup for."
   ]
  },
  {
   "cell_type": "code",
   "execution_count": 75,
   "id": "67bb4889",
   "metadata": {},
   "outputs": [],
   "source": [
    "def movie_names():\n",
    "    movie_names={}\n",
    "    with open(\"C://Users//kk//OneDrive//Desktop//ml-100k//u.ITEM\") as f:\n",
    "        lines=f.readlines()\n",
    "        for line in lines:\n",
    "            elements=line.split('|')\n",
    "            movie_names[int(elements[0])]=elements[1]\n",
    "        return movie_names\n",
    "def  filter_duplicates(x):\n",
    "    user_ratings=x[1]\n",
    "    (movie1,rating1)=user_ratings[0]\n",
    "    (movie2,rating2)=user_ratings[1]\n",
    "    return movie1 < movie2\n",
    "def remove_user_id(x):\n",
    "    user_ratings=x[1]\n",
    "    (movie1,rating1)=user_ratings[0]\n",
    "    (movie2,rating2)=user_ratings[1]\n",
    "    return ((movie1,movie2),(rating1,rating2))"
   ]
  },
  {
   "cell_type": "code",
   "execution_count": 55,
   "id": "1481677c",
   "metadata": {},
   "outputs": [],
   "source": [
    "import math\n",
    "from math import sqrt\n",
    "def cosine_similarity(ratingPairs):\n",
    "    numPairs = 0\n",
    "    sum_xx = sum_yy = sum_xy = 0\n",
    "    for ratingX, ratingY in ratingPairs:\n",
    "        sum_xx += ratingX * ratingX\n",
    "        sum_yy += ratingY * ratingY\n",
    "        sum_xy += ratingX * ratingY\n",
    "        numPairs += 1\n",
    "\n",
    "    numerator = sum_xy\n",
    "    denominator = sqrt(sum_xx) * sqrt(sum_yy)\n",
    "\n",
    "    score = 0\n",
    "    if (denominator):\n",
    "        score = (numerator / (float(denominator)))\n",
    "\n",
    "    return (score, numPairs)"
   ]
  },
  {
   "cell_type": "code",
   "execution_count": 56,
   "id": "24b2c93a",
   "metadata": {},
   "outputs": [],
   "source": [
    "modified_source_file=source_file.map(lambda x:x.split('\\t')).map(lambda x:(int(x[0]),(int(x[1]),int(x[2]))))"
   ]
  },
  {
   "cell_type": "code",
   "execution_count": 57,
   "id": "eb5101c5",
   "metadata": {},
   "outputs": [],
   "source": [
    "joined_file=modified_source_file.join(modified_source_file)"
   ]
  },
  {
   "cell_type": "code",
   "execution_count": 58,
   "id": "de2bffb5",
   "metadata": {},
   "outputs": [],
   "source": [
    "filtered_joined_file=joined_file.filter(filter_duplicates)"
   ]
  },
  {
   "cell_type": "code",
   "execution_count": 59,
   "id": "fc146ff4",
   "metadata": {},
   "outputs": [],
   "source": [
    "modifeid_mvies=filtered_joined_file.map(remove_user_id)"
   ]
  },
  {
   "cell_type": "code",
   "execution_count": 60,
   "id": "10f9b173",
   "metadata": {},
   "outputs": [],
   "source": [
    "movies=modifeid_mvies.groupByKey()"
   ]
  },
  {
   "cell_type": "code",
   "execution_count": 61,
   "id": "26ae45d4",
   "metadata": {},
   "outputs": [],
   "source": [
    "movie_pair_similarities=movies.mapValues(cosine_similarity).cache()"
   ]
  },
  {
   "cell_type": "raw",
   "id": "80024d47",
   "metadata": {},
   "source": [
    "Below is movie id for which you want close recommendations"
   ]
  },
  {
   "cell_type": "code",
   "execution_count": 62,
   "id": "5f86b86d",
   "metadata": {},
   "outputs": [],
   "source": [
    "movie_id=50"
   ]
  },
  {
   "cell_type": "code",
   "execution_count": 64,
   "id": "b5ff114f",
   "metadata": {},
   "outputs": [],
   "source": [
    "score_threshold=0.97\n",
    "co_occurence=50\n",
    "filtered_result=movie_pair_similarities.filter(lambda x:(x[0][0]==movie_id or x[0][1]==movie_id) and \\\n",
    "                                                  x[1][0] > score_threshold and x[1][1]>co_occurence)"
   ]
  },
  {
   "cell_type": "code",
   "execution_count": 68,
   "id": "db937066",
   "metadata": {},
   "outputs": [],
   "source": [
    "moviedict=movie_names()"
   ]
  },
  {
   "cell_type": "code",
   "execution_count": 73,
   "id": "3056433b",
   "metadata": {},
   "outputs": [],
   "source": [
    "filtered_result=filtered_result.map(lambda x : (x[1],x[0])).sortByKey(ascending=False).take(10)"
   ]
  },
  {
   "cell_type": "code",
   "execution_count": 74,
   "id": "01fb35b6",
   "metadata": {},
   "outputs": [
    {
     "name": "stdout",
     "output_type": "stream",
     "text": [
      "Top 10 Similar movies for  Star Wars (1977)\n",
      "Empire Strikes Back, The (1980)\t Score0.9895522078385338\t Strength 345\n",
      "Empire Strikes Back, The (1980)\t Score0.9895522078385338\t Strength 345\n",
      "Return of the Jedi (1983)\t Score0.9857230861253026\t Strength 480\n",
      "Return of the Jedi (1983)\t Score0.9857230861253026\t Strength 480\n",
      "Raiders of the Lost Ark (1981)\t Score0.981760098872619\t Strength 380\n",
      "Raiders of the Lost Ark (1981)\t Score0.981760098872619\t Strength 380\n",
      "20,000 Leagues Under the Sea (1954)\t Score0.9789385605497993\t Strength 68\n",
      "20,000 Leagues Under the Sea (1954)\t Score0.9789385605497993\t Strength 68\n",
      "12 Angry Men (1957)\t Score0.9776576120448436\t Strength 109\n",
      "12 Angry Men (1957)\t Score0.9776576120448436\t Strength 109\n"
     ]
    }
   ],
   "source": [
    "print(\"Top 5 Similar movies for \", moviedict[movie_id])\n",
    "for i1 in filtered_result:\n",
    "    (score,pair)=i1\n",
    "    similar_movie=pair[0]\n",
    "    if similar_movie==movie_id:\n",
    "        similar_movie=pair[1]\n",
    "    print(moviedict[similar_movie] + \"\\t Score\" + str(score[0]) + \"\\t Strength \"+ str(score[1]))"
   ]
  },
  {
   "cell_type": "code",
   "execution_count": null,
   "id": "445fbc05",
   "metadata": {},
   "outputs": [],
   "source": []
  }
 ],
 "metadata": {
  "kernelspec": {
   "display_name": "Python 3 (ipykernel)",
   "language": "python",
   "name": "python3"
  },
  "language_info": {
   "codemirror_mode": {
    "name": "ipython",
    "version": 3
   },
   "file_extension": ".py",
   "mimetype": "text/x-python",
   "name": "python",
   "nbconvert_exporter": "python",
   "pygments_lexer": "ipython3",
   "version": "3.10.1"
  }
 },
 "nbformat": 4,
 "nbformat_minor": 5
}
